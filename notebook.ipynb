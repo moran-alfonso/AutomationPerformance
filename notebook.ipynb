{
 "cells": [
  {
   "cell_type": "code",
   "execution_count": 1,
   "metadata": {},
   "outputs": [],
   "source": [
    "from ScriptsWriter import K6Generator as k6\n",
    "from APM.data_provider import APIs"
   ]
  },
  {
   "cell_type": "code",
   "execution_count": 2,
   "metadata": {},
   "outputs": [],
   "source": [
    "# Writter = k6.PerformanceGenerator(\"localhost\\\\Administrator\", \"Aspen100\", \"QE-APM-GEN-01.qae.aspentech.com\")\n",
    "# Writter.har2k6(r\".\\HAR_files\\Dashboard2Failure.har\", r\".\\RAW_K6\\raw_Dasboard2IssuePage.js\")\n",
    "# API = APIs(\"localhost\\\\Administrator\", \"Aspen100\", \"QE-APM-GEN-01.qae.aspentech.com\")\n",
    "# API.get_data(2)\n",
    "# Anomaly_data = API.ML_data(\"Anomaly\")\n",
    "# Failure_data = API.ML_data(\"Failure\")\n",
    "# anomaly = API.all_filtered_ML_data(Anomaly_data)\n",
    "# failure = API.all_filtered_ML_data(Failure_data)\n",
    "# Writter.read_base_file(r\".\\RAW_K6\\raw_Dasboard2IssuePage.js\")\n",
    "# Writter.add_ML_issues(failure[\"Normal\"])\n",
    "# Writter.generate_dates()\n",
    "# one_line_regex = [\n",
    "#                 \"response = http\\..*\\(\\n\",\n",
    "#                 \"response = http\\..*'\\n\",\n",
    "#                 \"response = http\\..*' \\n\",\n",
    "#                 \"response = http\\..*',\\n\",\n",
    "#                 \"response = http\\..*',\\n\"\n",
    "#                 ]\n",
    "# Writter.one_line(one_line_regex)\n",
    "# Writter.one_line(one_line_regex)\n",
    "# Writter.one_line(one_line_regex)\n",
    "# Writter.generate_access()\n",
    "# Writter.generate_check_codes(r\".\\HAR_files\\Dashboard2Failure.har\")\n",
    "# Writter.replace_issue()\n",
    "# Writter.write_script(r\".\\READY_K6\\Failure_IssuePage.js\")"
   ]
  },
  {
   "cell_type": "code",
   "execution_count": 3,
   "metadata": {},
   "outputs": [],
   "source": [
    "Writter = k6.PerformanceGenerator(\"user1\", \"PwdUsr1#FY23Q4\", \"QE-APM-GEN-01.qae.aspentech.com\")\n",
    "Writter.har2k6(r\".\\HAR_files\\Dashboard2Failure.har\", r\".\\RAW_K6\\raw_Dasboard2IssuePage.js\")\n",
    "API = APIs(\"localhost\\\\Administrator\", \"Aspen100\", \"QE-APM-GEN-01.qae.aspentech.com\")\n",
    "API.get_data(2)\n",
    "Anomaly_data = API.ML_data(\"Anomaly\")\n",
    "Failure_data = API.ML_data(\"Failure\")\n",
    "anomaly = API.all_filtered_ML_data(Anomaly_data)\n",
    "failure = API.all_filtered_ML_data(Failure_data)\n",
    "Writter.read_base_file(r\".\\RAW_K6\\raw_Dasboard2IssuePage.js\")"
   ]
  },
  {
   "attachments": {},
   "cell_type": "markdown",
   "metadata": {},
   "source": [
    "## This is a script for Failure normal"
   ]
  },
  {
   "cell_type": "code",
   "execution_count": 4,
   "metadata": {},
   "outputs": [],
   "source": [
    "Writter.add_ML_issues(failure[\"Normal\"])\n",
    "Writter.generate_dates()\n",
    "one_line_regex = [\n",
    "                \"response = http\\..*\\(\\n\",\n",
    "                \"response = http\\..*'\\n\",\n",
    "                \"response = http\\..*' \\n\",\n",
    "                \"response = http\\..*',\\n\",\n",
    "                \"response = http\\..*',\\n\"\n",
    "                ]\n",
    "Writter.one_line(one_line_regex)\n",
    "Writter.one_line(one_line_regex)\n",
    "Writter.one_line(one_line_regex)\n",
    "Writter.generate_access()\n",
    "Writter.generate_check_codes(r\".\\HAR_files\\Dashboard2Failure.har\")\n",
    "Writter.replace_issue()\n",
    "Writter.write_script(r\".\\READY_K6\\FailureWorkflow.js\")"
   ]
  },
  {
   "attachments": {},
   "cell_type": "markdown",
   "metadata": {},
   "source": [
    "## This is a script for Anomaly normal"
   ]
  },
  {
   "cell_type": "code",
   "execution_count": 5,
   "metadata": {},
   "outputs": [],
   "source": [
    "Writter.add_ML_issues(anomaly[\"External\"])\n",
    "Writter.generate_dates()\n",
    "one_line_regex = [\n",
    "                \"response = http\\..*\\(\\n\",\n",
    "                \"response = http\\..*'\\n\",\n",
    "                \"response = http\\..*' \\n\",\n",
    "                \"response = http\\..*',\\n\",\n",
    "                \"response = http\\..*',\\n\"\n",
    "                ]\n",
    "Writter.one_line(one_line_regex)\n",
    "Writter.one_line(one_line_regex)\n",
    "Writter.one_line(one_line_regex)\n",
    "Writter.generate_access()\n",
    "Writter.generate_check_codes(r\".\\HAR_files\\Dashboard2Failure.har\")\n",
    "Writter.replace_issue()\n",
    "Writter.write_script(r\".\\READY_K6\\AnomalyExternalWorkflow.js\")"
   ]
  },
  {
   "cell_type": "code",
   "execution_count": null,
   "metadata": {},
   "outputs": [],
   "source": []
  }
 ],
 "metadata": {
  "kernelspec": {
   "display_name": "venv",
   "language": "python",
   "name": "python3"
  },
  "language_info": {
   "codemirror_mode": {
    "name": "ipython",
    "version": 3
   },
   "file_extension": ".py",
   "mimetype": "text/x-python",
   "name": "python",
   "nbconvert_exporter": "python",
   "pygments_lexer": "ipython3",
   "version": "3.11.1"
  },
  "orig_nbformat": 4
 },
 "nbformat": 4,
 "nbformat_minor": 2
}
