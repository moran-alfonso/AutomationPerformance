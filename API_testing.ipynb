{
 "cells": [
  {
   "cell_type": "code",
   "execution_count": 1,
   "metadata": {},
   "outputs": [],
   "source": [
    "from APM_APIs import data_provider"
   ]
  },
  {
   "cell_type": "code",
   "execution_count": 2,
   "metadata": {},
   "outputs": [],
   "source": [
    "API = data_provider.APM_APIs(\"localhost\\\\Administrator\", \"Aspen100\", \"QE-APM-GEN-01.qae.aspentech.com\")"
   ]
  },
  {
   "cell_type": "code",
   "execution_count": 3,
   "metadata": {},
   "outputs": [],
   "source": [
    "API.get_data(2)\n",
    "Anomaly_data = API.ML_data(\"Anomaly\")\n",
    "Failure_data = API.ML_data(\"Failure\")"
   ]
  },
  {
   "cell_type": "code",
   "execution_count": null,
   "metadata": {},
   "outputs": [],
   "source": [
    "API.alerts[3]['mlAgentTypeString']"
   ]
  },
  {
   "cell_type": "code",
   "execution_count": 10,
   "metadata": {},
   "outputs": [
    {
     "name": "stdout",
     "output_type": "stream",
     "text": [
      "Maestro\n",
      "BACK_PROPAGATION\n",
      "Maestro\n",
      "BACK_PROPAGATION\n",
      "EXTERNAL_ML_AGENT\n"
     ]
    }
   ],
   "source": [
    "for anomaly in Failure_data:\n",
    "    print(anomaly['ML_type'])\n"
   ]
  },
  {
   "cell_type": "code",
   "execution_count": 7,
   "metadata": {},
   "outputs": [
    {
     "data": {
      "text/plain": [
       "{'IssueId': '6578c107-800d-4a8b-b8a5-1b09c2332f5f',\n",
       " 'AlertId': 16,\n",
       " 'ML_type': 'EXTERNAL_ML_AGENT',\n",
       " 'Tags': [{'tagId': 50, 'SensorName': 'A1113E', 'Contribution': 0.0},\n",
       "  {'tagId': 53, 'SensorName': 'A1113A', 'Contribution': 0.0},\n",
       "  {'tagId': 52, 'SensorName': 'FC1106', 'Contribution': 0.0},\n",
       "  {'tagId': 51, 'SensorName': 'FC1038', 'Contribution': 0.0},\n",
       "  {'tagId': 54, 'SensorName': 'A1113B', 'Contribution': 0.0},\n",
       "  {'tagId': 55, 'SensorName': 'A1113C', 'Contribution': 0.0}]}"
      ]
     },
     "execution_count": 7,
     "metadata": {},
     "output_type": "execute_result"
    }
   ],
   "source": [
    "Anomaly_data[0]"
   ]
  },
  {
   "cell_type": "code",
   "execution_count": null,
   "metadata": {},
   "outputs": [],
   "source": []
  }
 ],
 "metadata": {
  "kernelspec": {
   "display_name": "venv",
   "language": "python",
   "name": "python3"
  },
  "language_info": {
   "codemirror_mode": {
    "name": "ipython",
    "version": 3
   },
   "file_extension": ".py",
   "mimetype": "text/x-python",
   "name": "python",
   "nbconvert_exporter": "python",
   "pygments_lexer": "ipython3",
   "version": "3.11.1"
  },
  "orig_nbformat": 4
 },
 "nbformat": 4,
 "nbformat_minor": 2
}
