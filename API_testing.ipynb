{
 "cells": [
  {
   "cell_type": "code",
   "execution_count": 1,
   "metadata": {},
   "outputs": [],
   "source": [
    "from APM_APIs import data_provider\n",
    "import json"
   ]
  },
  {
   "cell_type": "code",
   "execution_count": 2,
   "metadata": {},
   "outputs": [],
   "source": [
    "API = data_provider.APM_APIs(\"localhost\\\\Administrator\", \"Aspen100\", \"QE-APM-GEN-01.qae.aspentech.com\")"
   ]
  },
  {
   "cell_type": "code",
   "execution_count": 3,
   "metadata": {},
   "outputs": [],
   "source": [
    "API.get_data(2)\n",
    "Anomaly_data = API.ML_data(\"Anomaly\")\n",
    "Failure_data = API.ML_data(\"Failure\")"
   ]
  },
  {
   "cell_type": "code",
   "execution_count": 4,
   "metadata": {},
   "outputs": [],
   "source": [
    "anomaly = API.all_filtered_ML_data(Anomaly_data)\n",
    "failure = API.all_filtered_ML_data(Failure_data)"
   ]
  },
  {
   "cell_type": "code",
   "execution_count": 5,
   "metadata": {},
   "outputs": [
    {
     "data": {
      "text/plain": [
       "[{'IssueId': '179ac00d-c2b6-4a03-9819-2e3f4032a791',\n",
       "  'IssueDate': '2023-02-22T17:00:00.000Z',\n",
       "  'AlertId': 12,\n",
       "  'AgentId': 33,\n",
       "  'ML_type': 'Maestro',\n",
       "  'Tags': [{'tagId': 259,\n",
       "    'SensorName': 'APSFC0112 .IP_AVRG3_VALUE',\n",
       "    'Contribution': 0.6451422293242381},\n",
       "   {'tagId': 265,\n",
       "    'SensorName': 'PraxairTest_5264',\n",
       "    'Contribution': 0.35485777067576185}]},\n",
       " {'IssueId': '9decf86a-1fe8-45d8-bafe-a1f9f6d23dac',\n",
       "  'IssueDate': '2023-02-22T06:05:00.000Z',\n",
       "  'AlertId': 15,\n",
       "  'AgentId': 23,\n",
       "  'ML_type': 'Maestro',\n",
       "  'Tags': [{'tagId': 320,\n",
       "    'SensorName': 'A1113C',\n",
       "    'Contribution': 0.7397712384330636},\n",
       "   {'tagId': 321,\n",
       "    'SensorName': 'A1113D',\n",
       "    'Contribution': 0.2602287615669365}]}]"
      ]
     },
     "execution_count": 5,
     "metadata": {},
     "output_type": "execute_result"
    }
   ],
   "source": [
    "failure[\"Maestro\"]"
   ]
  },
  {
   "cell_type": "code",
   "execution_count": 6,
   "metadata": {},
   "outputs": [
    {
     "data": {
      "text/plain": [
       "[{'IssueId': '6578c107-800d-4a8b-b8a5-1b09c2332f5f',\n",
       "  'IssueDate': '2023-02-23T00:05:00.000Z',\n",
       "  'AlertId': 16,\n",
       "  'AgentId': 4,\n",
       "  'ML_type': 'EXTERNAL_ML_AGENT',\n",
       "  'Tags': [{'tagId': 322, 'SensorName': 'A1113E', 'Contribution': 0.0},\n",
       "   {'tagId': 319, 'SensorName': 'A1113A', 'Contribution': 0.0},\n",
       "   {'tagId': 255, 'SensorName': 'FC1106', 'Contribution': 0.0},\n",
       "   {'tagId': 256, 'SensorName': 'FC1038', 'Contribution': 0.0},\n",
       "   {'tagId': 237, 'SensorName': 'A1113B', 'Contribution': 0.0},\n",
       "   {'tagId': 320, 'SensorName': 'A1113C', 'Contribution': 0.0}]},\n",
       " {'IssueId': '2ae80ec6-ab6f-445d-91fe-5b997f44df71',\n",
       "  'IssueDate': '2023-02-22T22:30:00.000Z',\n",
       "  'AlertId': 13,\n",
       "  'AgentId': 10,\n",
       "  'ML_type': 'EXTERNAL_ML_AGENT',\n",
       "  'Tags': [{'tagId': 322, 'SensorName': 'A1113E', 'Contribution': 0.0},\n",
       "   {'tagId': 320, 'SensorName': 'A1113C', 'Contribution': 0.0},\n",
       "   {'tagId': 321, 'SensorName': 'A1113D', 'Contribution': 0.0},\n",
       "   {'tagId': 237, 'SensorName': 'A1113B', 'Contribution': 0.0},\n",
       "   {'tagId': 323, 'SensorName': 'A1113F', 'Contribution': 0.0},\n",
       "   {'tagId': 319, 'SensorName': 'A1113A', 'Contribution': 0.0},\n",
       "   {'tagId': 324, 'SensorName': 'A1113G', 'Contribution': 0.0}]},\n",
       " {'IssueId': 'd9c9f8b9-872c-4947-9992-91ba197c3a5f',\n",
       "  'IssueDate': '2023-02-22T06:05:00.000Z',\n",
       "  'AlertId': 17,\n",
       "  'AgentId': 13,\n",
       "  'ML_type': 'EXTERNAL_ML_AGENT',\n",
       "  'Tags': [{'tagId': 323, 'SensorName': 'A1113F', 'Contribution': 0.0},\n",
       "   {'tagId': 256, 'SensorName': 'FC1038', 'Contribution': 0.0},\n",
       "   {'tagId': 237, 'SensorName': 'A1113B', 'Contribution': 0.0},\n",
       "   {'tagId': 320, 'SensorName': 'A1113C', 'Contribution': 0.0},\n",
       "   {'tagId': 255, 'SensorName': 'FC1106', 'Contribution': 0.0},\n",
       "   {'tagId': 319, 'SensorName': 'A1113A', 'Contribution': 0.0}]},\n",
       " {'IssueId': '4144a07b-0e12-43c1-b845-b4a79e8d74cc',\n",
       "  'IssueDate': '2023-02-27T22:15:00.000Z',\n",
       "  'AlertId': 20,\n",
       "  'AgentId': 11,\n",
       "  'ML_type': 'EXTERNAL_ML_AGENT',\n",
       "  'Tags': [{'tagId': 319,\n",
       "    'SensorName': 'A1113A',\n",
       "    'Contribution': 0.3209527723026447},\n",
       "   {'tagId': 321, 'SensorName': 'A1113D', 'Contribution': 0.15552047713223402},\n",
       "   {'tagId': 324, 'SensorName': 'A1113G', 'Contribution': 0.13122255366051214},\n",
       "   {'tagId': 257, 'SensorName': 'FC1021', 'Contribution': 0.11538950622779073},\n",
       "   {'tagId': 322, 'SensorName': 'A1113E', 'Contribution': 0.09835039154621021},\n",
       "   {'tagId': 237, 'SensorName': 'A1113B', 'Contribution': 0.09352484830269507},\n",
       "   {'tagId': 256,\n",
       "    'SensorName': 'FC1038',\n",
       "    'Contribution': 0.08503945082791306}]},\n",
       " {'IssueId': 'b3667fca-e82b-4af3-9b3b-4e6ea3854e20',\n",
       "  'IssueDate': '2023-02-23T03:00:00.000Z',\n",
       "  'AlertId': 18,\n",
       "  'AgentId': 17,\n",
       "  'ML_type': 'EXTERNAL_ML_AGENT',\n",
       "  'Tags': [{'tagId': 314,\n",
       "    'SensorName': 'MonthOfYear50PercentNoise',\n",
       "    'Contribution': 0.0},\n",
       "   {'tagId': 315, 'SensorName': 'MinuteOfDay', 'Contribution': 0.0},\n",
       "   {'tagId': 316,\n",
       "    'SensorName': 'HourOfDay10PercentNoise',\n",
       "    'Contribution': 0.0}]}]"
      ]
     },
     "execution_count": 6,
     "metadata": {},
     "output_type": "execute_result"
    }
   ],
   "source": [
    "anomaly[\"External\"]"
   ]
  },
  {
   "cell_type": "code",
   "execution_count": null,
   "metadata": {},
   "outputs": [],
   "source": [
    "API.alerts[0][\"apmvLiveAgentId\"]"
   ]
  },
  {
   "cell_type": "code",
   "execution_count": null,
   "metadata": {},
   "outputs": [],
   "source": [
    "for alert in API.alerts:\n",
    "    if alert[\"apmvLiveAgentId\"] == 33:\n",
    "        print(json.dumps(alert, indent = 2))"
   ]
  },
  {
   "cell_type": "code",
   "execution_count": null,
   "metadata": {},
   "outputs": [],
   "source": [
    "API.issues[0].get(\"issueType\")"
   ]
  },
  {
   "cell_type": "code",
   "execution_count": null,
   "metadata": {},
   "outputs": [],
   "source": [
    "API.alerts[0]"
   ]
  },
  {
   "cell_type": "code",
   "execution_count": null,
   "metadata": {},
   "outputs": [],
   "source": [
    "API.tag_rankings[0]"
   ]
  },
  {
   "cell_type": "code",
   "execution_count": null,
   "metadata": {},
   "outputs": [],
   "source": [
    "API.ML_data(\"Anomaly\")[4]"
   ]
  },
  {
   "cell_type": "code",
   "execution_count": null,
   "metadata": {},
   "outputs": [],
   "source": []
  }
 ],
 "metadata": {
  "kernelspec": {
   "display_name": "venv",
   "language": "python",
   "name": "python3"
  },
  "language_info": {
   "codemirror_mode": {
    "name": "ipython",
    "version": 3
   },
   "file_extension": ".py",
   "mimetype": "text/x-python",
   "name": "python",
   "nbconvert_exporter": "python",
   "pygments_lexer": "ipython3",
   "version": "3.11.1"
  },
  "orig_nbformat": 4,
  "vscode": {
   "interpreter": {
    "hash": "5ce82039b2ad370dca9bf1c83c4512c3a8d8974b5fd5b759480ea9ebf7059829"
   }
  }
 },
 "nbformat": 4,
 "nbformat_minor": 2
}
