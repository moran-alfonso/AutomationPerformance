{
 "cells": [
  {
   "cell_type": "code",
   "execution_count": 4,
   "metadata": {},
   "outputs": [],
   "source": [
    "from ScriptsWriter import K6Generator as k6w"
   ]
  },
  {
   "cell_type": "code",
   "execution_count": 5,
   "metadata": {},
   "outputs": [
    {
     "ename": "FileNotFoundError",
     "evalue": "[WinError 2] The system cannot find the file specified",
     "output_type": "error",
     "traceback": [
      "\u001b[1;31m---------------------------------------------------------------------------\u001b[0m",
      "\u001b[1;31mFileNotFoundError\u001b[0m                         Traceback (most recent call last)",
      "Cell \u001b[1;32mIn[5], line 2\u001b[0m\n\u001b[0;32m      1\u001b[0m w_MLissue \u001b[39m=\u001b[39m k6w\u001b[39m.\u001b[39mPerformanceGenerator(\u001b[39m\"\u001b[39m\u001b[39mlocalhost\u001b[39m\u001b[39m\\\\\u001b[39;00m\u001b[39mAdministrator\u001b[39m\u001b[39m\"\u001b[39m, \u001b[39m\"\u001b[39m\u001b[39mAspen100\u001b[39m\u001b[39m\"\u001b[39m, \u001b[39m\"\u001b[39m\u001b[39mQE-APM-GEN-01.qae.aspentech.com\u001b[39m\u001b[39m\"\u001b[39m)\n\u001b[1;32m----> 2\u001b[0m w_MLissue\u001b[39m.\u001b[39;49mhar2k6(\u001b[39mr\u001b[39;49m\u001b[39m\"\u001b[39;49m\u001b[39m.\u001b[39;49m\u001b[39m\\\u001b[39;49m\u001b[39mHAR_files\u001b[39;49m\u001b[39m\\\u001b[39;49m\u001b[39mDashboard2Failure.har\u001b[39;49m\u001b[39m\"\u001b[39;49m, \u001b[39mr\u001b[39;49m\u001b[39m\"\u001b[39;49m\u001b[39m.\u001b[39;49m\u001b[39m\\\u001b[39;49m\u001b[39mRAW_K6\u001b[39;49m\u001b[39m\\\u001b[39;49m\u001b[39mraw_Dasboard2IssuePage.js\u001b[39;49m\u001b[39m\"\u001b[39;49m)\n",
      "File \u001b[1;32mc:\\Users\\morana\\OneDrive - Aspen Technology, Inc\\Documents\\Projects\\K6_testing\\K6automation\\ScriptsWriter\\k6_writter.py:16\u001b[0m, in \u001b[0;36mPerformanceGenerator.har2k6\u001b[1;34m(self, har_path, js_path)\u001b[0m\n\u001b[0;32m     15\u001b[0m \u001b[39mdef\u001b[39;00m \u001b[39mhar2k6\u001b[39m(\u001b[39mself\u001b[39m, har_path: \u001b[39mstr\u001b[39m, js_path: \u001b[39mstr\u001b[39m) \u001b[39m-\u001b[39m\u001b[39m>\u001b[39m \u001b[39mNone\u001b[39;00m:\n\u001b[1;32m---> 16\u001b[0m     subprocess\u001b[39m.\u001b[39;49mrun([\u001b[39m'\u001b[39;49m\u001b[39mhar-to-k6\u001b[39;49m\u001b[39m'\u001b[39;49m, har_path, \u001b[39m'\u001b[39;49m\u001b[39m-o\u001b[39;49m\u001b[39m'\u001b[39;49m, js_path])\n",
      "File \u001b[1;32m~\\AppData\\Local\\Programs\\Python\\Python311\\Lib\\subprocess.py:548\u001b[0m, in \u001b[0;36mrun\u001b[1;34m(input, capture_output, timeout, check, *popenargs, **kwargs)\u001b[0m\n\u001b[0;32m    545\u001b[0m     kwargs[\u001b[39m'\u001b[39m\u001b[39mstdout\u001b[39m\u001b[39m'\u001b[39m] \u001b[39m=\u001b[39m PIPE\n\u001b[0;32m    546\u001b[0m     kwargs[\u001b[39m'\u001b[39m\u001b[39mstderr\u001b[39m\u001b[39m'\u001b[39m] \u001b[39m=\u001b[39m PIPE\n\u001b[1;32m--> 548\u001b[0m \u001b[39mwith\u001b[39;00m Popen(\u001b[39m*\u001b[39;49mpopenargs, \u001b[39m*\u001b[39;49m\u001b[39m*\u001b[39;49mkwargs) \u001b[39mas\u001b[39;00m process:\n\u001b[0;32m    549\u001b[0m     \u001b[39mtry\u001b[39;00m:\n\u001b[0;32m    550\u001b[0m         stdout, stderr \u001b[39m=\u001b[39m process\u001b[39m.\u001b[39mcommunicate(\u001b[39minput\u001b[39m, timeout\u001b[39m=\u001b[39mtimeout)\n",
      "File \u001b[1;32m~\\AppData\\Local\\Programs\\Python\\Python311\\Lib\\subprocess.py:1024\u001b[0m, in \u001b[0;36mPopen.__init__\u001b[1;34m(self, args, bufsize, executable, stdin, stdout, stderr, preexec_fn, close_fds, shell, cwd, env, universal_newlines, startupinfo, creationflags, restore_signals, start_new_session, pass_fds, user, group, extra_groups, encoding, errors, text, umask, pipesize, process_group)\u001b[0m\n\u001b[0;32m   1020\u001b[0m         \u001b[39mif\u001b[39;00m \u001b[39mself\u001b[39m\u001b[39m.\u001b[39mtext_mode:\n\u001b[0;32m   1021\u001b[0m             \u001b[39mself\u001b[39m\u001b[39m.\u001b[39mstderr \u001b[39m=\u001b[39m io\u001b[39m.\u001b[39mTextIOWrapper(\u001b[39mself\u001b[39m\u001b[39m.\u001b[39mstderr,\n\u001b[0;32m   1022\u001b[0m                     encoding\u001b[39m=\u001b[39mencoding, errors\u001b[39m=\u001b[39merrors)\n\u001b[1;32m-> 1024\u001b[0m     \u001b[39mself\u001b[39;49m\u001b[39m.\u001b[39;49m_execute_child(args, executable, preexec_fn, close_fds,\n\u001b[0;32m   1025\u001b[0m                         pass_fds, cwd, env,\n\u001b[0;32m   1026\u001b[0m                         startupinfo, creationflags, shell,\n\u001b[0;32m   1027\u001b[0m                         p2cread, p2cwrite,\n\u001b[0;32m   1028\u001b[0m                         c2pread, c2pwrite,\n\u001b[0;32m   1029\u001b[0m                         errread, errwrite,\n\u001b[0;32m   1030\u001b[0m                         restore_signals,\n\u001b[0;32m   1031\u001b[0m                         gid, gids, uid, umask,\n\u001b[0;32m   1032\u001b[0m                         start_new_session, process_group)\n\u001b[0;32m   1033\u001b[0m \u001b[39mexcept\u001b[39;00m:\n\u001b[0;32m   1034\u001b[0m     \u001b[39m# Cleanup if the child failed starting.\u001b[39;00m\n\u001b[0;32m   1035\u001b[0m     \u001b[39mfor\u001b[39;00m f \u001b[39min\u001b[39;00m \u001b[39mfilter\u001b[39m(\u001b[39mNone\u001b[39;00m, (\u001b[39mself\u001b[39m\u001b[39m.\u001b[39mstdin, \u001b[39mself\u001b[39m\u001b[39m.\u001b[39mstdout, \u001b[39mself\u001b[39m\u001b[39m.\u001b[39mstderr)):\n",
      "File \u001b[1;32m~\\AppData\\Local\\Programs\\Python\\Python311\\Lib\\subprocess.py:1493\u001b[0m, in \u001b[0;36mPopen._execute_child\u001b[1;34m(self, args, executable, preexec_fn, close_fds, pass_fds, cwd, env, startupinfo, creationflags, shell, p2cread, p2cwrite, c2pread, c2pwrite, errread, errwrite, unused_restore_signals, unused_gid, unused_gids, unused_uid, unused_umask, unused_start_new_session, unused_process_group)\u001b[0m\n\u001b[0;32m   1491\u001b[0m \u001b[39m# Start the process\u001b[39;00m\n\u001b[0;32m   1492\u001b[0m \u001b[39mtry\u001b[39;00m:\n\u001b[1;32m-> 1493\u001b[0m     hp, ht, pid, tid \u001b[39m=\u001b[39m _winapi\u001b[39m.\u001b[39;49mCreateProcess(executable, args,\n\u001b[0;32m   1494\u001b[0m                              \u001b[39m# no special security\u001b[39;49;00m\n\u001b[0;32m   1495\u001b[0m                              \u001b[39mNone\u001b[39;49;00m, \u001b[39mNone\u001b[39;49;00m,\n\u001b[0;32m   1496\u001b[0m                              \u001b[39mint\u001b[39;49m(\u001b[39mnot\u001b[39;49;00m close_fds),\n\u001b[0;32m   1497\u001b[0m                              creationflags,\n\u001b[0;32m   1498\u001b[0m                              env,\n\u001b[0;32m   1499\u001b[0m                              cwd,\n\u001b[0;32m   1500\u001b[0m                              startupinfo)\n\u001b[0;32m   1501\u001b[0m \u001b[39mfinally\u001b[39;00m:\n\u001b[0;32m   1502\u001b[0m     \u001b[39m# Child is launched. Close the parent's copy of those pipe\u001b[39;00m\n\u001b[0;32m   1503\u001b[0m     \u001b[39m# handles that only the child should have open.  You need\u001b[39;00m\n\u001b[1;32m   (...)\u001b[0m\n\u001b[0;32m   1506\u001b[0m     \u001b[39m# pipe will not close when the child process exits and the\u001b[39;00m\n\u001b[0;32m   1507\u001b[0m     \u001b[39m# ReadFile will hang.\u001b[39;00m\n\u001b[0;32m   1508\u001b[0m     \u001b[39mself\u001b[39m\u001b[39m.\u001b[39m_close_pipe_fds(p2cread, p2cwrite,\n\u001b[0;32m   1509\u001b[0m                          c2pread, c2pwrite,\n\u001b[0;32m   1510\u001b[0m                          errread, errwrite)\n",
      "\u001b[1;31mFileNotFoundError\u001b[0m: [WinError 2] The system cannot find the file specified"
     ]
    }
   ],
   "source": [
    "w_MLissue = k6w.PerformanceGenerator(\"localhost\\\\Administrator\", \"Aspen100\", \"QE-APM-GEN-01.qae.aspentech.com\")\n",
    "w_MLissue.har2k6(r\".\\HAR_files\\Dashboard2Failure.har\", r\".\\RAW_K6\\raw_Dasboard2IssuePage.js\")\n"
   ]
  },
  {
   "cell_type": "code",
   "execution_count": 4,
   "metadata": {},
   "outputs": [],
   "source": [
    "w_MLissue.read_base_file(r\".\\RAW_K6\\raw_Dasboard2IssuePage.js\")\n",
    "one_line_regex = [\n",
    "                \"response = http\\..*\\(\\n\",\n",
    "                \"response = http\\..*'\\n\",\n",
    "                \"response = http\\..*' \\n\",\n",
    "                \"response = http\\..*',\\n\",\n",
    "                \"response = http\\..*',\\n\"\n",
    "                ]\n",
    "w_MLissue.one_line_multiple(one_line_regex)\n",
    "w_MLissue.generate_access()\n",
    "w_MLissue.generate_check_codes(r\".\\HAR_files\\Dashboard2Failure.har\")\n",
    "#w_MLissue.name_group(\"IssuePage\")\n",
    "w_MLissue.write_script(r\".\\READY_K6\\ML_IssuePage.js\")"
   ]
  },
  {
   "cell_type": "code",
   "execution_count": 28,
   "metadata": {},
   "outputs": [],
   "source": [
    "Issue_Text = [{'IssueId': '6578c107-800d-4a8b-b8a5-1b09c2332f5f',\n",
    "  'AlertId': 16,\n",
    "  'AgentId': 4,\n",
    "  'ML_type': 'EXTERNAL_ML_AGENT',\n",
    "  'Tags': [{'tagId': 322, 'SensorName': 'A1113E', 'Contribution': 0.0},\n",
    "   {'tagId': 319, 'SensorName': 'A1113A', 'Contribution': 0.0},\n",
    "   {'tagId': 255, 'SensorName': 'FC1106', 'Contribution': 0.0},\n",
    "   {'tagId': 256, 'SensorName': 'FC1038', 'Contribution': 0.0},\n",
    "   {'tagId': 237, 'SensorName': 'A1113B', 'Contribution': 0.0},\n",
    "   {'tagId': 320, 'SensorName': 'A1113C', 'Contribution': 0.0}]},\n",
    " {'IssueId': '2ae80ec6-ab6f-445d-91fe-5b997f44df71',\n",
    "  'AlertId': 13,\n",
    "  'AgentId': 10,\n",
    "  'ML_type': 'EXTERNAL_ML_AGENT',\n",
    "  'Tags': [{'tagId': 322, 'SensorName': 'A1113E', 'Contribution': 0.0},\n",
    "   {'tagId': 320, 'SensorName': 'A1113C', 'Contribution': 0.0},\n",
    "   {'tagId': 321, 'SensorName': 'A1113D', 'Contribution': 0.0},\n",
    "   {'tagId': 237, 'SensorName': 'A1113B', 'Contribution': 0.0},\n",
    "   {'tagId': 323, 'SensorName': 'A1113F', 'Contribution': 0.0},\n",
    "   {'tagId': 319, 'SensorName': 'A1113A', 'Contribution': 0.0},\n",
    "   {'tagId': 324, 'SensorName': 'A1113G', 'Contribution': 0.0}]},\n",
    " {'IssueId': 'd9c9f8b9-872c-4947-9992-91ba197c3a5f',\n",
    "  'AlertId': 17,\n",
    "  'AgentId': 13,\n",
    "  'ML_type': 'EXTERNAL_ML_AGENT',\n",
    "  'Tags': [{'tagId': 323, 'SensorName': 'A1113F', 'Contribution': 0.0},\n",
    "   {'tagId': 256, 'SensorName': 'FC1038', 'Contribution': 0.0},\n",
    "   {'tagId': 237, 'SensorName': 'A1113B', 'Contribution': 0.0},\n",
    "   {'tagId': 320, 'SensorName': 'A1113C', 'Contribution': 0.0},\n",
    "   {'tagId': 255, 'SensorName': 'FC1106', 'Contribution': 0.0},\n",
    "   {'tagId': 319, 'SensorName': 'A1113A', 'Contribution': 0.0}]},\n",
    " {'IssueId': '4144a07b-0e12-43c1-b845-b4a79e8d74cc',\n",
    "  'AlertId': 20,\n",
    "  'AgentId': 11,\n",
    "  'ML_type': 'EXTERNAL_ML_AGENT',\n",
    "  'Tags': [{'tagId': 319,\n",
    "    'SensorName': 'A1113A',\n",
    "    'Contribution': 0.3209527723026447},\n",
    "   {'tagId': 321, 'SensorName': 'A1113D', 'Contribution': 0.15552047713223402},\n",
    "   {'tagId': 324, 'SensorName': 'A1113G', 'Contribution': 0.13122255366051214},\n",
    "   {'tagId': 257, 'SensorName': 'FC1021', 'Contribution': 0.11538950622779073},\n",
    "   {'tagId': 322, 'SensorName': 'A1113E', 'Contribution': 0.09835039154621021},\n",
    "   {'tagId': 237, 'SensorName': 'A1113B', 'Contribution': 0.09352484830269507},\n",
    "   {'tagId': 256,\n",
    "    'SensorName': 'FC1038',\n",
    "    'Contribution': 0.08503945082791306}]},\n",
    " {'IssueId': 'b3667fca-e82b-4af3-9b3b-4e6ea3854e20',\n",
    "  'AlertId': 18,\n",
    "  'AgentId': 17,\n",
    "  'ML_type': 'EXTERNAL_ML_AGENT',\n",
    "  'Tags': [{'tagId': 314,\n",
    "    'SensorName': 'MonthOfYear50PercentNoise',\n",
    "    'Contribution': 0.0},\n",
    "   {'tagId': 315, 'SensorName': 'MinuteOfDay', 'Contribution': 0.0},\n",
    "   {'tagId': 316,\n",
    "    'SensorName': 'HourOfDay10PercentNoise',\n",
    "    'Contribution': 0.0}]}]"
   ]
  },
  {
   "cell_type": "code",
   "execution_count": 29,
   "metadata": {},
   "outputs": [],
   "source": [
    "import json"
   ]
  },
  {
   "cell_type": "code",
   "execution_count": 31,
   "metadata": {},
   "outputs": [],
   "source": [
    "test_variable = Issue_Text#str(Issue_Text)\n",
    "js_str = json.dumps(test_variable, indent=2)\n",
    "#print(js_str)\n"
   ]
  },
  {
   "cell_type": "code",
   "execution_count": 32,
   "metadata": {},
   "outputs": [
    {
     "name": "stdout",
     "output_type": "stream",
     "text": [
      "function RandomIssue(IssueList){\n",
      "  let randomIndex = Math.floor(Math.random() * IssueList.length);\n",
      "  return IssueList[randomIndex];\n",
      "}\n",
      "let issue = RandomIssue(issues);\n",
      "let IssueId = issue.IssueId;\n",
      "let AgentId = issue.AgentId;\n",
      "let Tags = [];\n",
      "for (let i = 0; i < math.min(issue.Tags.length, 5); i++) {\n",
      "  Tags.push(issue.Tags[i].tagId);\n",
      "}\n"
     ]
    }
   ],
   "source": [
    "text_test = f\"let issues = {js_str}\\n\"\n",
    "add_chosen = \"function RandomIssue(IssueList){\\n\"  \\\n",
    "            \"  let randomIndex = Math.floor(Math.random() * IssueList.length);\\n\" \\\n",
    "            \"  return IssueList[randomIndex];\\n\" \\\n",
    "            \"}\\n\" \\\n",
    "            \"let issue = RandomIssue(issues);\\n\" \\\n",
    "            \"let IssueId = issue.IssueId;\\n\" \\\n",
    "            \"let AgentId = issue.AgentId;\\n\" \\\n",
    "            \"let Tags = [];\\n\" \\\n",
    "            \"for (let i = 0; i < Math.min(issue.Tags.length, 5); i++) {\\n\" \\\n",
    "            \"  Tags.push(issue.Tags[i].tagId);\\n}\"\\\n",
    "\n",
    "print(add_chosen)"
   ]
  },
  {
   "cell_type": "code",
   "execution_count": null,
   "metadata": {},
   "outputs": [],
   "source": []
  }
 ],
 "metadata": {
  "kernelspec": {
   "display_name": "venv",
   "language": "python",
   "name": "python3"
  },
  "language_info": {
   "codemirror_mode": {
    "name": "ipython",
    "version": 3
   },
   "file_extension": ".py",
   "mimetype": "text/x-python",
   "name": "python",
   "nbconvert_exporter": "python",
   "pygments_lexer": "ipython3",
   "version": "3.11.1"
  },
  "orig_nbformat": 4
 },
 "nbformat": 4,
 "nbformat_minor": 2
}
