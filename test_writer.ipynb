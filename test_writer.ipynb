{
 "cells": [
  {
   "cell_type": "code",
   "execution_count": 1,
   "metadata": {},
   "outputs": [],
   "source": [
    "from ScriptsWriter import k6_writter as k6w"
   ]
  },
  {
   "cell_type": "code",
   "execution_count": 2,
   "metadata": {},
   "outputs": [],
   "source": [
    "writter = k6w.Writer(\"localhost\\\\Administrator\", \"Aspen100\", \"QE-APM-GEN-01.qae.aspentech.com\")\n"
   ]
  },
  {
   "cell_type": "code",
   "execution_count": null,
   "metadata": {},
   "outputs": [],
   "source": [
    "writter.read_base_file(r\".\\raw_anomaly.js\")"
   ]
  },
  {
   "cell_type": "code",
   "execution_count": null,
   "metadata": {},
   "outputs": [],
   "source": [
    "one_line_regex = [\n",
    "                \"response = http\\..*\\(\\n\",\n",
    "                \"response = http\\..*'\\n\",\n",
    "                \"response = http\\..*' \\n\",\n",
    "                \"response = http\\..*',\\n\",\n",
    "                \"response = http\\..*',\\n\"\n",
    "                ]\n",
    "writter.one_line_multiple(one_line_regex)\n",
    "writter.generate_access()\n",
    "writter.generate_check_codes(r\".\\anomaly.har\")\n",
    "writter.write_script(r\".\\test_writter.js\")"
   ]
  },
  {
   "cell_type": "code",
   "execution_count": null,
   "metadata": {},
   "outputs": [],
   "source": [
    "import os"
   ]
  },
  {
   "cell_type": "code",
   "execution_count": null,
   "metadata": {},
   "outputs": [],
   "source": [
    "os.system(\"har-to-k6 ./HAR_files/Dashboard.har -o ./RAW_k6/raw_Dashboard.js\")"
   ]
  },
  {
   "cell_type": "code",
   "execution_count": 3,
   "metadata": {},
   "outputs": [],
   "source": [
    "writter.har2k6(\"./HAR_files/Dashboard.har\", \"./RAW_k6/raw_Dashboard.js\")"
   ]
  },
  {
   "cell_type": "code",
   "execution_count": null,
   "metadata": {},
   "outputs": [],
   "source": []
  }
 ],
 "metadata": {
  "kernelspec": {
   "display_name": "venv",
   "language": "python",
   "name": "python3"
  },
  "language_info": {
   "codemirror_mode": {
    "name": "ipython",
    "version": 3
   },
   "file_extension": ".py",
   "mimetype": "text/x-python",
   "name": "python",
   "nbconvert_exporter": "python",
   "pygments_lexer": "ipython3",
   "version": "3.11.1"
  },
  "orig_nbformat": 4
 },
 "nbformat": 4,
 "nbformat_minor": 2
}
