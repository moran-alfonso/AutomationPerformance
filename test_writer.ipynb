{
 "cells": [
  {
   "cell_type": "code",
   "execution_count": 1,
   "metadata": {},
   "outputs": [],
   "source": [
    "from ScriptsWriter import k6_writter as k6w"
   ]
  },
  {
   "cell_type": "code",
   "execution_count": 2,
   "metadata": {},
   "outputs": [],
   "source": [
    "w_MLissue = k6w.Single_Writer(\"localhost\\\\Administrator\", \"Aspen100\", \"QE-APM-GEN-01.qae.aspentech.com\")\n",
    "w_MLissue.har2k6(r\".\\HAR_files\\Dashboard2Failure.har\", r\".\\RAW_K6\\raw_Dasboard2IssuePage.js\")\n"
   ]
  },
  {
   "cell_type": "code",
   "execution_count": 4,
   "metadata": {},
   "outputs": [],
   "source": [
    "w_MLissue.read_base_file(r\".\\RAW_K6\\raw_Dasboard2IssuePage.js\")\n",
    "one_line_regex = [\n",
    "                \"response = http\\..*\\(\\n\",\n",
    "                \"response = http\\..*'\\n\",\n",
    "                \"response = http\\..*' \\n\",\n",
    "                \"response = http\\..*',\\n\",\n",
    "                \"response = http\\..*',\\n\"\n",
    "                ]\n",
    "w_MLissue.one_line_multiple(one_line_regex)\n",
    "w_MLissue.generate_access()\n",
    "w_MLissue.generate_check_codes(r\".\\HAR_files\\Dashboard2Failure.har\")\n",
    "#w_MLissue.name_group(\"IssuePage\")\n",
    "w_MLissue.write_script(r\".\\READY_K6\\ML_IssuePage.js\")"
   ]
  },
  {
   "cell_type": "code",
   "execution_count": 28,
   "metadata": {},
   "outputs": [],
   "source": [
    "Issue_Text = [{'IssueId': '6578c107-800d-4a8b-b8a5-1b09c2332f5f',\n",
    "  'AlertId': 16,\n",
    "  'AgentId': 4,\n",
    "  'ML_type': 'EXTERNAL_ML_AGENT',\n",
    "  'Tags': [{'tagId': 322, 'SensorName': 'A1113E', 'Contribution': 0.0},\n",
    "   {'tagId': 319, 'SensorName': 'A1113A', 'Contribution': 0.0},\n",
    "   {'tagId': 255, 'SensorName': 'FC1106', 'Contribution': 0.0},\n",
    "   {'tagId': 256, 'SensorName': 'FC1038', 'Contribution': 0.0},\n",
    "   {'tagId': 237, 'SensorName': 'A1113B', 'Contribution': 0.0},\n",
    "   {'tagId': 320, 'SensorName': 'A1113C', 'Contribution': 0.0}]},\n",
    " {'IssueId': '2ae80ec6-ab6f-445d-91fe-5b997f44df71',\n",
    "  'AlertId': 13,\n",
    "  'AgentId': 10,\n",
    "  'ML_type': 'EXTERNAL_ML_AGENT',\n",
    "  'Tags': [{'tagId': 322, 'SensorName': 'A1113E', 'Contribution': 0.0},\n",
    "   {'tagId': 320, 'SensorName': 'A1113C', 'Contribution': 0.0},\n",
    "   {'tagId': 321, 'SensorName': 'A1113D', 'Contribution': 0.0},\n",
    "   {'tagId': 237, 'SensorName': 'A1113B', 'Contribution': 0.0},\n",
    "   {'tagId': 323, 'SensorName': 'A1113F', 'Contribution': 0.0},\n",
    "   {'tagId': 319, 'SensorName': 'A1113A', 'Contribution': 0.0},\n",
    "   {'tagId': 324, 'SensorName': 'A1113G', 'Contribution': 0.0}]},\n",
    " {'IssueId': 'd9c9f8b9-872c-4947-9992-91ba197c3a5f',\n",
    "  'AlertId': 17,\n",
    "  'AgentId': 13,\n",
    "  'ML_type': 'EXTERNAL_ML_AGENT',\n",
    "  'Tags': [{'tagId': 323, 'SensorName': 'A1113F', 'Contribution': 0.0},\n",
    "   {'tagId': 256, 'SensorName': 'FC1038', 'Contribution': 0.0},\n",
    "   {'tagId': 237, 'SensorName': 'A1113B', 'Contribution': 0.0},\n",
    "   {'tagId': 320, 'SensorName': 'A1113C', 'Contribution': 0.0},\n",
    "   {'tagId': 255, 'SensorName': 'FC1106', 'Contribution': 0.0},\n",
    "   {'tagId': 319, 'SensorName': 'A1113A', 'Contribution': 0.0}]},\n",
    " {'IssueId': '4144a07b-0e12-43c1-b845-b4a79e8d74cc',\n",
    "  'AlertId': 20,\n",
    "  'AgentId': 11,\n",
    "  'ML_type': 'EXTERNAL_ML_AGENT',\n",
    "  'Tags': [{'tagId': 319,\n",
    "    'SensorName': 'A1113A',\n",
    "    'Contribution': 0.3209527723026447},\n",
    "   {'tagId': 321, 'SensorName': 'A1113D', 'Contribution': 0.15552047713223402},\n",
    "   {'tagId': 324, 'SensorName': 'A1113G', 'Contribution': 0.13122255366051214},\n",
    "   {'tagId': 257, 'SensorName': 'FC1021', 'Contribution': 0.11538950622779073},\n",
    "   {'tagId': 322, 'SensorName': 'A1113E', 'Contribution': 0.09835039154621021},\n",
    "   {'tagId': 237, 'SensorName': 'A1113B', 'Contribution': 0.09352484830269507},\n",
    "   {'tagId': 256,\n",
    "    'SensorName': 'FC1038',\n",
    "    'Contribution': 0.08503945082791306}]},\n",
    " {'IssueId': 'b3667fca-e82b-4af3-9b3b-4e6ea3854e20',\n",
    "  'AlertId': 18,\n",
    "  'AgentId': 17,\n",
    "  'ML_type': 'EXTERNAL_ML_AGENT',\n",
    "  'Tags': [{'tagId': 314,\n",
    "    'SensorName': 'MonthOfYear50PercentNoise',\n",
    "    'Contribution': 0.0},\n",
    "   {'tagId': 315, 'SensorName': 'MinuteOfDay', 'Contribution': 0.0},\n",
    "   {'tagId': 316,\n",
    "    'SensorName': 'HourOfDay10PercentNoise',\n",
    "    'Contribution': 0.0}]}]"
   ]
  },
  {
   "cell_type": "code",
   "execution_count": 29,
   "metadata": {},
   "outputs": [],
   "source": [
    "import json"
   ]
  },
  {
   "cell_type": "code",
   "execution_count": 31,
   "metadata": {},
   "outputs": [],
   "source": [
    "test_variable = Issue_Text#str(Issue_Text)\n",
    "js_str = json.dumps(test_variable, indent=2)\n",
    "#print(js_str)\n"
   ]
  },
  {
   "cell_type": "code",
   "execution_count": 32,
   "metadata": {},
   "outputs": [
    {
     "name": "stdout",
     "output_type": "stream",
     "text": [
      "function RandomIssue(IssueList){\n",
      "  let randomIndex = Math.floor(Math.random() * IssueList.length);\n",
      "  return IssueList[randomIndex];\n",
      "}\n",
      "let issue = RandomIssue(issues);\n",
      "let IssueId = issue.IssueId;\n",
      "let AgentId = issue.AgentId;\n",
      "let Tags = [];\n",
      "for (let i = 0; i < math.min(issue.Tags.length, 5); i++) {\n",
      "  Tags.push(issue.Tags[i].tagId);\n",
      "}\n"
     ]
    }
   ],
   "source": [
    "text_test = f\"let issues = {js_str}\\n\"\n",
    "add_chosen = \"function RandomIssue(IssueList){\\n\"  \\\n",
    "            \"  let randomIndex = Math.floor(Math.random() * IssueList.length);\\n\" \\\n",
    "            \"  return IssueList[randomIndex];\\n\" \\\n",
    "            \"}\\n\" \\\n",
    "            \"let issue = RandomIssue(issues);\\n\" \\\n",
    "            \"let IssueId = issue.IssueId;\\n\" \\\n",
    "            \"let AgentId = issue.AgentId;\\n\" \\\n",
    "            \"let Tags = [];\\n\" \\\n",
    "            \"for (let i = 0; i < Math.min(issue.Tags.length, 5); i++) {\\n\" \\\n",
    "            \"  Tags.push(issue.Tags[i].tagId);\\n}\"\\\n",
    "\n",
    "print(add_chosen)"
   ]
  },
  {
   "cell_type": "code",
   "execution_count": 33,
   "metadata": {},
   "outputs": [],
   "source": [
    "\n",
    "jsTest =  open(r'.\\test_text.js', \"w\")\n",
    "jsTest.writelines([text_test, add_chosen])\n",
    "jsTest.close()"
   ]
  },
  {
   "cell_type": "code",
   "execution_count": null,
   "metadata": {},
   "outputs": [],
   "source": []
  }
 ],
 "metadata": {
  "kernelspec": {
   "display_name": "venv",
   "language": "python",
   "name": "python3"
  },
  "language_info": {
   "codemirror_mode": {
    "name": "ipython",
    "version": 3
   },
   "file_extension": ".py",
   "mimetype": "text/x-python",
   "name": "python",
   "nbconvert_exporter": "python",
   "pygments_lexer": "ipython3",
   "version": "3.11.1"
  },
  "orig_nbformat": 4
 },
 "nbformat": 4,
 "nbformat_minor": 2
}
